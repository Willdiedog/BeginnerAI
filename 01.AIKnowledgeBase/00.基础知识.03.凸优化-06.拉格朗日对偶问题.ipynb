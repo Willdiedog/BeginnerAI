{
 "cells": [
  {
   "cell_type": "markdown",
   "metadata": {
    "collapsed": true
   },
   "source": [
    "拉格朗日对偶问题-Lagrange对偶问题\n",
    "==="
   ]
  },
  {
   "cell_type": "markdown",
   "metadata": {},
   "source": [
    "# 1.意义\n",
    "无论原问题是不是凸优化问题，都可以将原问题转化为凸优化问题来求解。当Lagrange对偶问题的强对偶性成立时，可以利用求解对偶问题来求解原问题；而原问题是凸优化问题时，强对偶性往往成立。否则，可以利用求解对偶问题求出原问题最优值的下界"
   ]
  },
  {
   "cell_type": "markdown",
   "metadata": {},
   "source": [
    "# 2.原问题-约束最优化问题的原始问题\n",
    "假设$f(x),f_i(x),h_i(x)$是定义在$R^n$上的连续可微函数，那么\n",
    "$$\\begin{eqnarray}\n",
    "&min&f_0(x)\\\\\\\\\n",
    "s.t.&f_i(x)& \\leq 0, i=1,...,m\\\\\\\\\n",
    "&h_i(x)&=0, i=1,...,p\n",
    "\\end{eqnarray}$$\n",
    "就叫做约束最优化问题的原始问题。表示在所有满足$f_i(x) \\leq,i=1,...,m$及$h_i(x)=0,i=1,...,p$的$x$中，找出使得$f_0(x)$最小的$x$.这里$x \\in R^n$称为问题的优化变量，函数$f_0:R^n \\to R$称为目标函数，不等式$f_i(x) \\leq 0$称为不等式约束，相应的$f_i:R^n \\to R,i=1,2,...,m$称为不等式约束函数，方程组$h_i(x)=0$称为等式约束，相应的$h_i:R^n \\to R,i=1,2,...,p$称为等式约束。如果没有约束，即$m=p=0$，称为无约束问题，那么对目标和说有约束函数有定义的点的集合\n",
    "$$\\delta=\\bigcap_{i=0}^mdomf_i \\cap \\bigcap_{j=1}^pdomh_j$$\n",
    "称为优化问题的定义域\n",
    "- 优化变量：$x \\in R^n$\n",
    "- 不等式约束：$f_i{x} \\leq 0$\n",
    "- 等式约束：$h_j(x)=0$\n",
    "- 无约束优化：$m=p=0$\n",
    "\n",
    "现在如果不考虑约束条件,因为假设其连续可微，利用高中的知识，对$f(x)$求导数，然后令导数为0，就可解出最优解，很简单. 那么，问题来了，偏偏有约束条件，要是能想办法把约束条件去掉就好了! 拉格朗日函数就是干这个的。"
   ]
  },
  {
   "cell_type": "markdown",
   "metadata": {},
   "source": [
    "# 3.拉格朗日函数\n",
    "## 3.1.拉格朗日函数的定义\n",
    "对于一般优化问题，我们可以加入参数$\\lambda, \\nu$，得到拉格朗日函数Largange\n",
    "$$L(x,\\lambda,\\nu) = f_0(x) + \\sum_{i=1}^m\\lambda_if_i(x) + \\sum_{j=1}^p\\nu_jh_j(x)$$\n",
    "其定义域为$R^m*R^p$,$\\lambda_i$称为不等式约束$f_i(x) \\leq 0$对应的Lagrange乘子，$\\nu_i$称为等式约束$h_i(x)$对应的Lagrange乘子。可以发现，如果固定x，那么Largange函数$L(x,\\lambda,\\nu)$为关于$\\lambda$和$\\nu$的仿射函数。其中特别要求$\\lambda_i \\geq 0$"
   ]
  },
  {
   "cell_type": "markdown",
   "metadata": {},
   "source": [
    "## 3.2.问题转化\n",
    "我们把$L(x,\\lambda,\\nu)$看作是关于$\\lambda,\\nu$的函数,要求其最大值$max_{\\lambda,\\nu:\\lambda_i \\geq 0}L(x,\\lambda,\\nu)$，那我们总可以找到一个优化方法，得到$\\lambda,\\nu$的值使得$L(x,\\lambda,\\nu)$取得最大值(固定$x$的值)。取得这两个值之后，我们就可以得到$L(x,\\lambda,\\nu)$的最大值，因为这个时候只和$x$相关了\n",
    "$$\\Theta_p(x)=max_{\\lambda,\\nu:\\lambda_i \\geq 0}L(x,\\lambda,\\nu)$$\n",
    "其中\n",
    "$$L(x,\\lambda,\\nu) = f_0(x) + \\sum_{i=1}^m\\lambda_if_i(x) + \\sum_{j=1}^p\\nu_jh_j(x)$$\n",
    "对于$x$我们可以分析如下\n",
    "- 我们找到一个$x$使得违反原始的约束，即找到这样一个$x$，使得$f_i(x) >0$或者$h_j(x) \\neq 0$，那么很容易知道$\\Theta_p(x)$会是一个$+\\infty$\n",
    "- 我们找到一个$x$使得不违反原始的约束，即找到这样一个$x$，使得$f_i(x) \\leq 0$或者$h_j(x) = 0$,那么$\\sum_{j=1}^p\\nu_jh_j(x)$必然为0，$\\sum_{i=1}^m\\lambda_if_i(x)$的最大值也是0，那么$\\Theta_p(x)=f(x)$\n",
    "\n",
    "通过上述分析，我们可以得出\n",
    "$$\\Theta_p(x)=\\begin{cases}\n",
    "f(x) &f_i(x) \\leq 0, h_i(x)=0\\\\\\\\\n",
    "+\\infty &otherwise\n",
    "\\end{cases}$$\n",
    "那么在满足约束的条件下，我们就有\n",
    "$$\n",
    "min_x\\Theta_p(x)=min_xmax_{\\lambda,\\nu:\\lambda \\geq 0}L(x,\\lambda,\\nu)=min_xf(x)\n",
    "$$\n",
    "$min_xf(x)$不就是原始问题的目标函数吗，所以$min_x\\Theta_p(x)$与原始问题等价，所以原始问题的最优解$p^*=min_x\\Theta_P(x)$,\n",
    "这样我们就通过拉格朗日方法重新定义一个无约束问题，这个无约束问题等价于原来的约束优化问题，从而将约束问题无约\n",
    "束化"
   ]
  },
  {
   "cell_type": "markdown",
   "metadata": {},
   "source": [
    "# 4.拉格朗日对偶问题\n",
    "## 4.1.拉格朗日对偶函数\n",
    "我们知道原问题是\n",
    "$$min_x\\Theta_p(x)=min_xmax_{\\lambda,\\nu:\\lambda \\geq 0}L(x,\\lambda,\\nu)$$\n",
    "那么它的拉格朗日对偶问题就如下\n",
    "$$max_{\\lambda,\\nu:\\lambda \\geq 0}\\Theta_D(\\lambda,\\nu)=max_{\\lambda,\\nu:\\lambda \\geq 0}min_xL(x,\\lambda,\\nu)$$\n",
    "形式上比较对称，只不过原始问题是先固定$x$，然后优化参数$\\lambda,\\nu$，然后在优化$x$，而对偶问题则是先固定$\\lambda,\\nu$，优化出$x$，然后在确定参数$\\lambda,\\nu$"
   ]
  },
  {
   "cell_type": "markdown",
   "metadata": {},
   "source": [
    "## 4.2.拉格朗日对偶函数定义\n",
    "定义Lagrange对偶函数为Lagrange函数关于$x$取最小值，即对于$\\lambda \\in R^m, \\nu \\in R^p$，有\n",
    "$$g(\\lambda,\\nu)=inf_{x \\in D}L(x,\\lambda,\\nu)=inf_{x \\in D}(f_0(x) + \\sum_{i=1}^m\\lambda_if_i(x)+\\sum_{i=1}^p\\nu_ih_i(x))$$\n",
    "Lagrange对偶函数是一族关于$(\\lambda,\\nu)$的放射函数的逐点下确界，即使原问题不是凸的，对偶函数也是凹函数。"
   ]
  },
  {
   "cell_type": "markdown",
   "metadata": {},
   "source": [
    "## 4.3.原问题与对偶问题的关系\n",
    "若原始问题与对偶问题都有最优值，则\n",
    "$$d^*=max_{\\lambda,\\nu:\\lambda \\geq 0}min_xL(x,\\lambda,\\nu) \\leq min_xmax_{\\lambda,\\nu:\\lambda \\geq 0}L(x,\\lambda,\\nu)$$\n",
    "也就是说原始问题的最优值不小于对偶问题的最优值\n",
    "\n",
    "证明：对于任意的$\\lambda,\\nu$和$x$，有\n",
    "$$\\begin{eqnarray}\n",
    "\\Theta_D(\\lambda,\\nu)&=&min_xL(x,\\lambda,\\nu)\\\\\n",
    "&\\leq& L(x,\\lambda,\\nu)\\\\\n",
    "&\\leq& max_{\\lambda,\\nu:\\lambda \\geq 0}L(x,\\lambda,\\nu)\\\\\n",
    "&=&\\Theta_P(x)\\\\\n",
    "&\\Rightarrow& \\Theta_D(\\lambda,\\nu) \\leq \\Theta_P(x)\\\\\n",
    "\\end{eqnarray}$$\n",
    "由于原始问题与对偶问题都有最优值，所以\n",
    "$$max_{\\lambda,\\nu:\\lambda \\geq 0}\\Theta_D(\\lambda,\\nu) \\leq min_x\\Theta_P(x)$$\n",
    "所以\n",
    "$$d^*=max_{\\lambda,\\nu:\\lambda \\geq 0}min_xL(x,\\lambda,\\nu) \\leq min_xmax_{\\lambda,\\nu:\\lambda \\geq 0}L(x,\\lambda,\\nu)$$\n",
    "我们要通过对偶问题来求解原始问题，就必须使得原始问题的最优值与对偶问题的最优值相等，于是可以得出下面的推论\n",
    "> 设$x^*,\\lambda^*,\\nu^*$分别是原始问题和对偶问题的可行解，设$d^*,P^*$分别是对偶问题和原始问题的最优解，如果$d^*=P^*$，\n",
    "> 那么$x^*,\\lambda^*,\\nu^*$分别是原始问题和对偶问题的最优解\n",
    "\n",
    "所以，如果$d^*=P^*$，可以用求解对偶问题来求解原始问题。那么满足什么样的条件才能使得$d^*=P^*$，就是KKT条件"
   ]
  },
  {
   "cell_type": "markdown",
   "metadata": {},
   "source": [
    "## 4.4.最优值的下界\n",
    "可以证明，Lagrange对偶函数构成了原问题最优值$p^*$的下界，即$\\forall \\lambda \\geq 0, \\forall \\nu$, 若原最优化问题有最优解$p^*$,则\n",
    "$$g(\\lambda,\\nu) \\leq p^*$$"
   ]
  },
  {
   "cell_type": "markdown",
   "metadata": {},
   "source": [
    "## 4.5.最好下界\n",
    "求解从Lagrange对偶函数求得原函数最优值的最好下界，构成了Lagrange对偶问题\n",
    "$$\\begin{eqnarray}\n",
    "max& &g(\\lambda,\\nu)\\\\\\\\\n",
    "s.t.& &\\forall \\lambda \\geq 0\n",
    "\\end{eqnarray}$$\n",
    "Lagrange对偶函数是凹函数，所以Lagrange度偶问题是凸优化问题"
   ]
  },
  {
   "cell_type": "markdown",
   "metadata": {},
   "source": [
    "# 5.对偶性\n",
    "## 5.1.弱对偶性\n",
    "我们用$d^*$表示Lagrange对偶问题的最优解，则有\n",
    "$$d^* \\leq p^*$$\n",
    "即使原问题不是凸优化问题，这个不等式也成立。这个性质称作弱对偶性"
   ]
  },
  {
   "cell_type": "markdown",
   "metadata": {},
   "source": [
    "## 5.2.强对偶性\n",
    "### 5.2.1.强对偶性\n",
    "如果$d^* = p^*$，则称强对偶性成立。如果原问题是凸优化问题，则通常(但不总是)强对偶性成立\n",
    "\n",
    "### 5.2.2.约束准则-Slater条件与Slater定理\n",
    "很多研究成果给出了除凸性条件之外的强对偶性成立的条件，这些条件称为约束准则，存在一点$x \\in relintD$，使得\n",
    "$$\\begin{eqnarray}\n",
    "&f_i(x)&\\leq 0,i=1,...,m\\\\\n",
    "&Ax&=b\n",
    "\\end{eqnarray}$$\n",
    "这就是Slater条件(relintD是定义域D的相对内部)\n",
    "- Slater定理：当Slater条件成立且原问题是凸优化问题时，强对偶性成立"
   ]
  },
  {
   "cell_type": "markdown",
   "metadata": {},
   "source": [
    "# 6.最优性条件\n",
    "## 6.1.互不松弛性\n",
    "当强对偶性成立时，$x^*$是原问题的最优解，$(\\lambda^*,\\nu^*)$是对偶问题的最优解的一个必要条件是互不松弛性条件：\n",
    "$$\\sum_{i=1}^m\\lambda_i^*f_i(x^*)=0$$\n",
    "因为每一项都非正，因此有\n",
    "$$\\lambda_i^*f_i(x^*)=0,i=1,...,m$$"
   ]
  },
  {
   "cell_type": "markdown",
   "metadata": {},
   "source": [
    "## 6.2.KKT条件\n",
    "### 6.2.1.非凸优化问题的KKT条件\n",
    "当强对偶性成立时，$x^*$和$(\\lambda^*,\\nu^*)$分别是原问题和对偶问题的最优解，则其必须满足KKT条件：\n",
    "$$\\begin{cases}\n",
    "f_i(x^*) \\leq 0 &i=1,...,m\\\\\\\\\n",
    "h_i(x^*) = 0 & i=1,...,p\\\\\\\\\n",
    "\\lambda_i^* \\geq 0 & i=1,...,m\\\\\\\\\n",
    "\\lambda_i^*f_i(x^*) = 0 & i=1,...,m\\\\\\\\\n",
    "\\nabla{f_0(x^*)} + \\sum_{i=1}^m\\lambda_i^*\\nabla{f_i(x^*)} + \\sum_{i=1}^p\\nu_i^*\\nabla{h_i(x^*)}=0\n",
    "\\end{cases}$$\n",
    "\n",
    "### 6.2.2.凸优化问题的KKT条件\n",
    "当原问题是凸优化问题时，满足KKT条件的点也是原、对偶问题的最优解。若某个凸优化问题具有可微的目标函数和约束函数，且满足Slater条件，那么KKT条件是最优性的充要条件"
   ]
  },
  {
   "cell_type": "markdown",
   "metadata": {},
   "source": [
    "# 7.举例说明\n",
    "## 7.1.举例1\n",
    "条件:$Ax=b$，目标是求$minimize:x^Tx, x \\in R^n$<br/>\n",
    "解：求得拉格朗日函数为$L(x,\\nu)=x^Tx+\\nu^T(Ax-b)$，对于x求偏导，可以消掉x，然后带入结果，就可以得到拉格朗日函数的对偶函数$$\\frac{\\partial{L}}{\\partial{x}}=\\frac{\\partial{(x^Tx+\\nu^T(Ax-b))}}{\\partial{x}}=2x+A^T\\nu$$\n",
    "令其为0，则有$x^*=-\\frac{1}{2}A^T\\nu$，将结果带入拉格朗日函数，则可以得到拉格朗日的对偶函数如下：\n",
    "$$g(\\nu)=(-\\frac{1}{2}A^T\\nu)^T \\bullet (-\\frac{1}{2}A^T\\nu) + \\nu^T(A(-\\frac{1}{2}A^T\\nu)-b)=-\\frac{1}{4}\\nu^TAA^\\nu-\\nu^Tb$$\n",
    "因为对偶函数一定是凹函数，所以可以求的其最大值，有\n",
    "$$\\frac{\\partial{g}}{\\partial{\\nu}}=\\frac{\\partial{-\\frac{1}{4}\\nu^TAA^\\nu-\\nu^Tb}}{\\partial{\\nu}}=-\\frac{1}{2}AA^T\\nu-b=0 \\Rightarrow AA^T\\nu = -2b$$\n",
    "两边同时乘以$A^T$\n",
    "$$\\begin{eqnarray}\n",
    "&\\Rightarrow& A^TAA^T\\nu=-2A^Tb\\\\\n",
    "&\\Rightarrow& -\\frac{1}{2}A^T\\nu=(A^TA)^{-1}A^Tb\\\\\n",
    "&\\Rightarrow& x^*=(A^TA)^{-1}A^Tb\n",
    "\\end{eqnarray}$$\n",
    "这个跟线性回归最小二乘法求得的结果是一样的，所以线性回归问题具有强对偶性"
   ]
  },
  {
   "cell_type": "markdown",
   "metadata": {},
   "source": [
    "## 7.2.举例2\n",
    "例题：将正数12分成x,y,z三个正数，使得$\\mu_{max}=x^3y^2z$为最大，求解x,y,z以及$\\mu_{max}$<br/>\n",
    "解：由题目可知$x+y+z=12$,所以$\\varphi(x,y,z)=x+y+z-12=0$,令\n",
    "$$F(x,y,z)=x^3y^2z+\\lambda(x+y+z-12)$$\n",
    "则\n",
    "$$\\begin{cases}\n",
    "\\frac{\\partial{F}}{\\partial{x}}=F_x^{'}=3y^2zx^2+\\lambda=0\\\\\\\\\n",
    "\\frac{\\partial{F}}{\\partial{y}}=F_y^{'}=2x^3zy+\\lambda=0\\\\\\\\\n",
    "\\frac{\\partial{F}}{\\partial{z}}=F_z^{'}=x^3y^2+\\lambda=0\\\\\\\\\n",
    "x+y+z=12\n",
    "\\end{cases}\n",
    "$$\n",
    "$\\Rightarrow 2x=3y,y=2z$解得唯一驻点是(6,4,2)，故$\\mu_{max}=6^3*4^2*2=6912$"
   ]
  },
  {
   "cell_type": "markdown",
   "metadata": {},
   "source": [
    "# 8.KKT条件的意义\n",
    "KKT条件在优化领域有着重要的作用。在一些情况下，可以通过解析求解KKT条件来求解优化问题。高等代数中的Lagrange乘子法就可以理解为利用KKT条件求解约束求极值问题。更一般地，很多求解凸优化问题的方法可以理解为求解KKT条件的方法"
   ]
  }
 ],
 "metadata": {
  "kernelspec": {
   "display_name": "Python 2",
   "language": "python",
   "name": "python2"
  },
  "language_info": {
   "codemirror_mode": {
    "name": "ipython",
    "version": 2
   },
   "file_extension": ".py",
   "mimetype": "text/x-python",
   "name": "python",
   "nbconvert_exporter": "python",
   "pygments_lexer": "ipython2",
   "version": "2.7.6"
  }
 },
 "nbformat": 4,
 "nbformat_minor": 0
}
