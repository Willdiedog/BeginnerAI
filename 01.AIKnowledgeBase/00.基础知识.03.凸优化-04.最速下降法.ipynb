{
 "cells": [
  {
   "cell_type": "markdown",
   "metadata": {
    "collapsed": true
   },
   "source": [
    "最速下降法\n",
    "==="
   ]
  },
  {
   "cell_type": "markdown",
   "metadata": {},
   "source": [
    "# 1.简介\n",
    "利用目标函数的一阶泰勒展开近似优化过程，求得搜索方向的方法"
   ]
  },
  {
   "cell_type": "markdown",
   "metadata": {},
   "source": [
    "# 2.思路及推导\n",
    "对$f(x+\\nu)$在$x$处进行一阶泰勒展开，有：\n",
    "$$f(x+\\nu) \\approx f(x)+\\nabla{f(x)}^T\\nu$$\n",
    "这里有：\n",
    "$$f(x)-f(x+\\nu) \\approx -\\nabla{f(x)}^T\\nu$$\n",
    "也就是说，在$\\nu$是下降方向的前提下，即$\\nabla{f(x)}^T\\nu<0$，可以把$-\\nabla{f(x)}^T\\nu$看作是从$x$到$x+\\nu$下降的量。那么进一步，$\\nu$,取多少可以使下降量尽可能大，也就是使$\\nabla{f(x)}^T\\nu$尽可能小。自然可以想到，当$\\nu=-\\nabla{f(x)}^T$时，下降速度最快，此时，最速下降法等同于给出了梯度下降法。"
   ]
  },
  {
   "cell_type": "markdown",
   "metadata": {},
   "source": [
    "# 3.规范化\n",
    "当满足$\\nabla{f(x)}^T\\nu<0$且$\\nu$方向确定的条件下,$||\\nu||$越大，则$\\nabla{f(x)}^T\\nu$越小。这样这个问题就失去了意义。为了使问题有意义，需要定义一个规范化的最速下降方向\n",
    "$$\\Delta{x}=argmin_{\\nu}\\\\{\\nabla{f(x)}^T\\nu | ||\\nu|| \\leq 1\\\\}$$\n",
    "这个优化问题可能有多个最优解。也就是说，一个规范的下降方向就是在单位球体中在$-\\nabla{f(x)}$方向上投影最长的方向"
   ]
  }
 ],
 "metadata": {
  "kernelspec": {
   "display_name": "Python 2",
   "language": "python",
   "name": "python2"
  },
  "language_info": {
   "codemirror_mode": {
    "name": "ipython",
    "version": 2
   },
   "file_extension": ".py",
   "mimetype": "text/x-python",
   "name": "python",
   "nbconvert_exporter": "python",
   "pygments_lexer": "ipython2",
   "version": "2.7.6"
  }
 },
 "nbformat": 4,
 "nbformat_minor": 0
}
