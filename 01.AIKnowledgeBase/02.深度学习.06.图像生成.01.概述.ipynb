{
 "cells": [
  {
   "cell_type": "markdown",
   "metadata": {
    "collapsed": true
   },
   "source": [
    "生成对抗网络-GAN(Generative Adversarial Networks)\n",
    "==="
   ]
  },
  {
   "cell_type": "markdown",
   "metadata": {},
   "source": [
    "# 1.概述\n",
    "生成对抗网络可以分为普通GAN、DCGAN、CGAN、infoGAN、Wasserstein GAN、Wasserstein GAN-GP、LSGAN、BEGAN、PIX2PIX、CycleGAN和DiscoGAN等等。简单来说就是以下三点\n",
    "- 构建两个网络：一个生成网络$G$，一个判别网络$D$，基本上两个网络都是需要使用到卷积\n",
    "- 训练方式：判别网络接收来自生成网络生成的数据，然后判断真假，生成网络生成数据，尽量迷惑判别网络，一般来说G训练一次，D训练K次\n",
    "- 数据输入：G网络的输入是Noise，D网络的输入是混合G网络的输出数据以及样本数据。G网络的目标是尽量生成逼真的假数据，使得D网络无法判别出入的图片是真还是假；D网络的目标是尽量的能够区分输入的图片是真还是假。这就是所谓的对抗过程\n",
    "\n",
    "在下面的介绍中，我们假定真实样本空间为$X=\\{x_1,x_2,...,x_n\\}$, 噪声为$Z$，生成网络为$G$，判别网络为$D$"
   ]
  },
  {
   "cell_type": "markdown",
   "metadata": {},
   "source": [
    "# 2.生成对抗网络-GAN(Generative Adversarial Networks)\n",
    "## 2.1.概述\n",
    "不使用卷积层的GAN是普通的生成对抗网络"
   ]
  },
  {
   "cell_type": "markdown",
   "metadata": {},
   "source": [
    "## 2.2.网络结构\n",
    "### 2.2.1.G网络\n",
    "使用全连接层，RELU或者Leaky_Relu以及Sigmoid来生成数据\n",
    "\n",
    "### 2.2.2.D网络\n",
    "使用全连接层，RELU或者Leaky_Relu以及Sigmoid来判别数据"
   ]
  },
  {
   "cell_type": "markdown",
   "metadata": {},
   "source": [
    "## 2.3.损失函数\n",
    "$$\\begin{eqnarray}\n",
    "L_D^{GAN}&=&\\frac{1}{n}\\sum_{i=1}^n[log(D(x^i))]+E[log(1-D(G(z^i)))]\\\\\n",
    "L_G^{GAN}&=&E[log(D(G(z)))]\n",
    "\\end{eqnarray}$$\n",
    "优化目标是\n",
    "$$min_Gmax_DLoss$$"
   ]
  },
  {
   "cell_type": "markdown",
   "metadata": {},
   "source": [
    "# 3.深度卷积生成对抗网络-DCGAN(Deep Convolution Generative Adversarial Networks)\n",
    "改进的就是在G和D网络中使用了Conv和Batch Norm层，G网络使用Tanh代替Sigmoid。<br/>\n",
    "![images](../images/02_06_01_001.png)"
   ]
  },
  {
   "cell_type": "markdown",
   "metadata": {},
   "source": [
    "# 4.条件生成对抗网络-CGAN(Conditional Generative Adversarial Networks)\n",
    "## 4.1.概述\n",
    "GAN中输入是随机的数据，没有太多意义，那么我们很自然的会想到能否用输入改成一个有意义的数据，最简单的就是数字字体生成，能否输入一个数字，然后输出对应的字体。这就是CGAN要做的事，就是在G网络的输入在z的基础上连接一个输入y，然后在D网络的输入在x的基础上也连接一个y。这样GAN就变成了有监督了<br/>\n",
    "![images](../images/02_06_01_002.png)"
   ]
  },
  {
   "cell_type": "markdown",
   "metadata": {},
   "source": [
    "# 5.信息生成对抗网络-infoGAN(Info Generative Adversarial Networks)\n",
    "有了CGAN，我们可以有一个单一输入y，然后通过调整z输出不同的图像。但是CGAN是有监督的，我们需要指定y。那么有没有可能实现无监督的CGAN？这个想法本身就比较疯狂，要实现无监督的CGAN，意味着需要让神经网络不但通过学习提取了特征，还需要把特征表达出来。对于MNIST，如何通过无监督学习让神经网络知道你输入y=2时就输出2的字体？或者用一个连续的值来调整字的粗细，方向？感觉确实是一个非常困难的问题，但是InfoGAN就这么神奇的做到了。怎么做呢？作者引入了信息论的知识，也就是mutual information互信息。作者的思路就是G网络的输入除了z之外同样类似CGAN输入一个c变量，这个变量一开始神经网络并不知道是什么含义，但是没关系，我们希望c与G网络输出的x之间的互信息最大化，也就是让神经网络自己去训练c与输出之间的关系。"
   ]
  }
 ],
 "metadata": {
  "kernelspec": {
   "display_name": "Python 2",
   "language": "python",
   "name": "python2"
  },
  "language_info": {
   "codemirror_mode": {
    "name": "ipython",
    "version": 2
   },
   "file_extension": ".py",
   "mimetype": "text/x-python",
   "name": "python",
   "nbconvert_exporter": "python",
   "pygments_lexer": "ipython2",
   "version": "2.7.6"
  }
 },
 "nbformat": 4,
 "nbformat_minor": 0
}
