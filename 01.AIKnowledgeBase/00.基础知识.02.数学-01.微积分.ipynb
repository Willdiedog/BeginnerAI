{
 "cells": [
  {
   "cell_type": "markdown",
   "metadata": {
    "collapsed": true
   },
   "source": [
    "微积分\n",
    "==="
   ]
  },
  {
   "cell_type": "markdown",
   "metadata": {},
   "source": [
    "# 1.导数\n",
    "导数的定义：$$f'(a)=\\lim\\limits_{h\\to{0}}\\frac{f(a+h)-f(a)}{h}$$\n",
    "h是变化率"
   ]
  },
  {
   "cell_type": "markdown",
   "metadata": {},
   "source": [
    "# 2.常见导数\n",
    "$(x^a)'=ax^{a-1}$<br/>\n",
    "$(e^x)'=e^x$<br/>\n",
    "$(a^x)'=ln(a)a^x$<br/>\n",
    "$(ln(x))'=\\frac{1}{x}$<br/>\n",
    "$\\frac{d}{dx}sin(x)=cos(x)$<br/>\n",
    "$\\frac{d}{dx}cos(x)=-sin(x)$<br/>"
   ]
  },
  {
   "cell_type": "markdown",
   "metadata": {},
   "source": [
    "# 3.导数法则\n",
    "加法法则：$(\\alpha{f}+\\beta{g})'=\\alpha{f}'+\\beta{g}'$<br/>\n",
    "乘法法则：$(fg)'=f'g+fg'$<br/>\n",
    "除法法则：$(\\frac{f}{g})'=\\frac{f'g-fg'}{g^2}$<br/>\n",
    "复合函数：$f(x)=h(g(x)), f'(x)=h'(g(x)) * g'(x)$<br/>\n",
    "\n",
    "实例：计算$f(x)=x^4+sin(x^2)-ln(x)e^x+7$的导数<br/>\n",
    "$f'(x)=4x^3+cos(x^2) * 2x - \\frac{1}{x}e^x - e^xln(x)$"
   ]
  },
  {
   "cell_type": "markdown",
   "metadata": {},
   "source": [
    "# 4.梯度和Hession矩阵(以下都假设函数连续可导)\n",
    "## 4.1.一阶导数和梯度\n",
    "一元函数$f'(x)$,x为标量\n",
    "\n",
    "多元函数\n",
    "$$\n",
    "\\nabla{f(X)}=\\frac{\\partial{f(X)}}{\\partial{X}}=\\begin{bmatrix}\n",
    "\\frac{\\partial{f(X)}}{\\partial{x_1}}\\\\\\\\\n",
    "\\frac{\\partial{f(X)}}{\\partial{x_2}}\\\\\\\\\n",
    "\\vdots\\\\\\\\\n",
    "\\frac{\\partial{f(X)}}{\\partial{x_n}}\n",
    "\\end{bmatrix}\n",
    "$$\n",
    "X为矢量,求偏导的时候，需要把其它的变量当成常数,这就是梯度，对矢量求导，也就是求梯度的过程\n",
    "\n",
    "## 4.2.二阶导数和Hession矩阵\n",
    "一元函数的二阶导数:$f''(x)$\n",
    "\n",
    "多元函数的二阶导数：\n",
    "$$\n",
    "\\nabla^2f(X)=\\begin{bmatrix}\n",
    "\\frac{\\partial^2{f(X)}}{\\partial{x_1}{\\partial{x_1}}}&\\frac{\\partial^2{f(X)}}{\\partial{x_1}{\\partial{x_2}}}&\\dots&\\frac{\\partial^2{f(X)}}{\\partial{x_1}{\\partial{x_n}}}\\\\\\\\\n",
    "\\frac{\\partial^2{f(X)}}{\\partial{x_2}{\\partial{x_1}}}&\\frac{\\partial^2{f(X)}}{\\partial{x_2}{\\partial{x_2}}}&\\dots&\\frac{\\partial^2{f(X)}}{\\partial{x_2}{\\partial{x_n}}}\\\\\\\\\n",
    "\\vdots&\\vdots&\\vdots&\\vdots\\\\\\\\\n",
    "\\frac{\\partial^2{f(X)}}{\\partial{x_n}{\\partial{x_1}}}&\\frac{\\partial^2{f(X)}}{\\partial{x_n}{\\partial{x_2}}}&\\dots&\\frac{\\partial^2{f(X)}}{\\partial{x_n}{\\partial{x_n}}}\n",
    "\\end{bmatrix}\n",
    "$$\n",
    "这就是Hession矩阵,对称矩阵\n"
   ]
  },
  {
   "cell_type": "markdown",
   "metadata": {},
   "source": [
    "# 5.二次型的矩阵表示\n",
    "二次型就是二次多项式，可以简单使用矩阵$X^TAX$标识，比如$x_1^2+x_2^2$可以表示为\n",
    "$$\\begin{bmatrix}\n",
    "x_1\\\\\\\\\n",
    "x_2\n",
    "\\end{bmatrix}^T \\bullet A \\bullet \\begin{bmatrix}\n",
    "x_1\\\\\\\\\n",
    "x_2\n",
    "\\end{bmatrix}\n",
    "$$\n",
    "A是一个单位矩阵，这样写法比较简单。那么二次型求梯度，则有$\\frac{\\partial{X^TAX}}{\\partial{X}}=2AX$,这样求梯度会比直接对二项式求梯度简单"
   ]
  },
  {
   "cell_type": "markdown",
   "metadata": {},
   "source": [
    "# 6.泰勒级数与极值\n",
    "f(x)在$x_k$处做泰勒级数展开，有$f(x_k+\\delta)\\approx{f(x_k)}+f'(x_k)\\delta+\\frac{f''(x_k)}{2!}\\delta^2+...+\\frac{f^{(n)}(x_k)}{n!}\\delta^n+R_n(x)$，其中$\\delta$是一个很\n",
    "小的量，相当于$x_k$在周围很小的一个范围展开，如果$x_k=0$，也就是说在0处展开，则有\n",
    "$$\n",
    "f(x)=f(0)+f'(0)x+\\frac{f''(0)}{2!}x^2+...+\\frac{f^{(n)}(0)}{n!}x^n+o(x^n)$$\n",
    "这个叫做Maclaurin公式.利用泰勒级数展开，可以求e的值\n",
    "\n",
    "令$f(x)=e^x,(e^x)'=e^x$\n",
    "$$\n",
    "\\begin{split}\n",
    "&\\Rightarrow f(x)=e^0+e^0x+\\frac{e^0}{2!}x^2+...+\\frac{e^0}{n!}x^n\\\\\\\\\n",
    "&\\Rightarrow e^x=1+x+\\frac{x^2}{2!}+...\\frac{x^n}{n!}+R_n\n",
    "\\end{split}\n",
    "$$\n",
    "令x=1，则有$e=1+1+\\frac{1}{2!}+\\frac{1}{3!}+...+\\frac{1}{n!}$\n",
    "\n",
    "如果做加减乘除之类的算法，硬件可以直接算,如果计算sinx，或者cosx，或者$e^{0.01}$，只能通过泰勒级数展开来做\n",
    "\n",
    "一阶导数如果等于0，那么这个点可能是极值点\n",
    "\n",
    "​\t \n",
    "称满足$f'(x_k)=0$的点为平稳点(候选点)，此时如果还有:\n",
    "- $f''(x_k) \\ge 0, x_k$为一严格局部极小点，反之为严格局部最大点\n",
    "- $f''(x_k)=0$，可能是一个鞍点(saddle point)\n",
    "\n",
    "总结，一阶导数等于0，可能有三种情况：\n",
    "- 局部最小值点，如果$f''(x_k) \\ge 0$，那么就是局部最小点\n",
    "- 局部最大值点，如果$f''(x_k) \\le 0$，那么就是局部最大点\n",
    "- 鞍点，如果$f''(x_k) = 0$,那么就是鞍点，这个时候就要考虑三阶导数\n",
    "\n",
    "输入为矢量的泰勒级数展开\n",
    "$$f(X_k+\\Delta)\\approx{f(X_k)}+ \\nabla^T f(X_k) \\Delta + \\frac{1}{2}\\Delta^T\\nabla^2f(X_k)\\Delta$$\n",
    "其中$X,\\Delta$都是矢量\n",
    "\n",
    "称满足$\\nabla^Tf(X_k)=0$的点为平稳点(候选点)，此时如果还有\n",
    "- $\\nabla^2f(X_k) \\succ 0,X_k$为一严格局部极小点，反之是严格局部最大点\n",
    "- 如果$\\nabla^2f(X_k)$为不定矩阵，那么就是一个鞍点\n",
    "\n",
    "由于$\\nabla^2f(X_k)$的结果是一个Hession矩阵，$\\succ 0$的意思就是这个Hession矩阵的所有特征值都是大于0的，这就是正定矩阵\n",
    "(那么这个函数就是凸函数)，如果是$\\nabla^2f(X_k) \\succeq 0$，那么就是半正定矩阵，也就是所有特征值都是大于等于0的"
   ]
  }
 ],
 "metadata": {
  "kernelspec": {
   "display_name": "Python 2",
   "language": "python",
   "name": "python2"
  },
  "language_info": {
   "codemirror_mode": {
    "name": "ipython",
    "version": 2
   },
   "file_extension": ".py",
   "mimetype": "text/x-python",
   "name": "python",
   "nbconvert_exporter": "python",
   "pygments_lexer": "ipython2",
   "version": "2.7.6"
  }
 },
 "nbformat": 4,
 "nbformat_minor": 0
}
